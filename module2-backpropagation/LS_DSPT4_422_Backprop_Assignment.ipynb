{
 "cells": [
  {
   "cell_type": "markdown",
   "metadata": {
    "toc": true
   },
   "source": [
    "<h1>Table of Contents<span class=\"tocSkip\"></span></h1>\n",
    "<div class=\"toc\"><ul class=\"toc-item\"><li><span><a href=\"#Backpropagation-Practice\" data-toc-modified-id=\"Backpropagation-Practice-1\"><span class=\"toc-item-num\">1&nbsp;&nbsp;</span>Backpropagation Practice</a></span><ul class=\"toc-item\"><li><span><a href=\"#Data-Science-Unit-4-Sprint-2-Assignment-2\" data-toc-modified-id=\"Data-Science-Unit-4-Sprint-2-Assignment-2-1.1\"><span class=\"toc-item-num\">1.1&nbsp;&nbsp;</span><em>Data Science Unit 4 Sprint 2 Assignment 2</em></a></span></li><li><span><a href=\"#Try-building/training-a-more-complex-MLP-on-a-bigger-dataset.\" data-toc-modified-id=\"Try-building/training-a-more-complex-MLP-on-a-bigger-dataset.-1.2\"><span class=\"toc-item-num\">1.2&nbsp;&nbsp;</span>Try building/training a more complex MLP on a bigger dataset.</a></span></li><li><span><a href=\"#Stretch-Goals:\" data-toc-modified-id=\"Stretch-Goals:-1.3\"><span class=\"toc-item-num\">1.3&nbsp;&nbsp;</span>Stretch Goals:</a></span></li></ul></li></ul></div>"
   ]
  },
  {
   "cell_type": "markdown",
   "metadata": {
    "colab_type": "text",
    "id": "NGGrt9EYlCqY"
   },
   "source": [
    "<img align=\"left\" src=\"https://lever-client-logos.s3.amazonaws.com/864372b1-534c-480e-acd5-9711f850815c-1524247202159.png\" width=200>\n",
    "<br></br>\n",
    "\n",
    "# Backpropagation Practice\n",
    "\n",
    "## *Data Science Unit 4 Sprint 2 Assignment 2*\n",
    "\n",
    "Implement a 3 input, 4 node hidden-layer, 1 output node Multilayer Perceptron on the following dataset:\n",
    "\n",
    "| x1 | x2 | x3 | y |\n",
    "|----|----|----|---|\n",
    "| 0  | 0  | 1  | 0 |\n",
    "| 0  | 1  | 1  | 1 |\n",
    "| 1  | 0  | 1  | 1 |\n",
    "| 0  | 1  | 0  | 1 |\n",
    "| 1  | 0  | 0  | 1 |\n",
    "| 1  | 1  | 1  | 0 |\n",
    "| 0  | 0  | 0  | 0 |\n",
    "\n",
    "If you look at the data you'll notice that the first two columns behave like an XOR gate while the last column is mostly just noise. Remember that creating an XOR gate was what the perceptron was criticized for not being able to learn. "
   ]
  },
  {
   "cell_type": "code",
   "execution_count": 2,
   "metadata": {},
   "outputs": [],
   "source": [
    "import pandas as pd\n",
    "import numpy as np\n",
    "\n",
    "data = {'x1': [0,0,1,0,1,1,0],\n",
    "        'x2': [0,1,0,1,0,1,0],\n",
    "        'x3': [1,1,1,0,0,1,0],\n",
    "        'y':  [0,1,1,1,1,0,0]\n",
    "       }\n",
    "df = pd.DataFrame.from_dict(data).astype('int')"
   ]
  },
  {
   "cell_type": "code",
   "execution_count": 3,
   "metadata": {},
   "outputs": [],
   "source": [
    "# Create inputs and outputs\n",
    "X = df[['x1', 'x2', 'x3']].values\n",
    "y = df[['y']].values"
   ]
  },
  {
   "cell_type": "code",
   "execution_count": 7,
   "metadata": {
    "colab": {},
    "colab_type": "code",
    "id": "nEREYT-3wI1f"
   },
   "outputs": [
    {
     "name": "stdout",
     "output_type": "stream",
     "text": [
      "Train on 7 samples\n",
      "Epoch 1/100\n",
      "7/7 [==============================] - 0s 64ms/sample - loss: 0.7275 - acc: 0.4286\n",
      "Epoch 2/100\n",
      "7/7 [==============================] - 0s 435us/sample - loss: 0.7269 - acc: 0.4286\n",
      "Epoch 3/100\n",
      "7/7 [==============================] - 0s 914us/sample - loss: 0.7263 - acc: 0.4286\n",
      "Epoch 4/100\n",
      "7/7 [==============================] - 0s 678us/sample - loss: 0.7258 - acc: 0.4286\n",
      "Epoch 5/100\n",
      "7/7 [==============================] - 0s 800us/sample - loss: 0.7252 - acc: 0.4286\n",
      "Epoch 6/100\n",
      "7/7 [==============================] - 0s 849us/sample - loss: 0.7246 - acc: 0.4286\n",
      "Epoch 7/100\n",
      "7/7 [==============================] - 0s 744us/sample - loss: 0.7241 - acc: 0.4286\n",
      "Epoch 8/100\n",
      "7/7 [==============================] - 0s 873us/sample - loss: 0.7235 - acc: 0.4286\n",
      "Epoch 9/100\n",
      "7/7 [==============================] - 0s 805us/sample - loss: 0.7230 - acc: 0.4286\n",
      "Epoch 10/100\n",
      "7/7 [==============================] - 0s 1ms/sample - loss: 0.7225 - acc: 0.4286\n",
      "Epoch 11/100\n",
      "7/7 [==============================] - 0s 655us/sample - loss: 0.7219 - acc: 0.4286\n",
      "Epoch 12/100\n",
      "7/7 [==============================] - 0s 767us/sample - loss: 0.7214 - acc: 0.4286\n",
      "Epoch 13/100\n",
      "7/7 [==============================] - 0s 1ms/sample - loss: 0.7209 - acc: 0.4286\n",
      "Epoch 14/100\n",
      "7/7 [==============================] - 0s 1ms/sample - loss: 0.7203 - acc: 0.4286\n",
      "Epoch 15/100\n",
      "7/7 [==============================] - 0s 845us/sample - loss: 0.7198 - acc: 0.4286\n",
      "Epoch 16/100\n",
      "7/7 [==============================] - 0s 848us/sample - loss: 0.7193 - acc: 0.4286\n",
      "Epoch 17/100\n",
      "7/7 [==============================] - 0s 628us/sample - loss: 0.7188 - acc: 0.4286\n",
      "Epoch 18/100\n",
      "7/7 [==============================] - 0s 736us/sample - loss: 0.7183 - acc: 0.4286\n",
      "Epoch 19/100\n",
      "7/7 [==============================] - 0s 1ms/sample - loss: 0.7178 - acc: 0.4286\n",
      "Epoch 20/100\n",
      "7/7 [==============================] - 0s 739us/sample - loss: 0.7173 - acc: 0.4286\n",
      "Epoch 21/100\n",
      "7/7 [==============================] - 0s 814us/sample - loss: 0.7168 - acc: 0.4286\n",
      "Epoch 22/100\n",
      "7/7 [==============================] - 0s 803us/sample - loss: 0.7163 - acc: 0.4286\n",
      "Epoch 23/100\n",
      "7/7 [==============================] - 0s 1ms/sample - loss: 0.7158 - acc: 0.4286\n",
      "Epoch 24/100\n",
      "7/7 [==============================] - 0s 843us/sample - loss: 0.7154 - acc: 0.4286\n",
      "Epoch 25/100\n",
      "7/7 [==============================] - 0s 1ms/sample - loss: 0.7149 - acc: 0.4286\n",
      "Epoch 26/100\n",
      "7/7 [==============================] - 0s 1ms/sample - loss: 0.7144 - acc: 0.4286\n",
      "Epoch 27/100\n",
      "7/7 [==============================] - 0s 1ms/sample - loss: 0.7139 - acc: 0.4286\n",
      "Epoch 28/100\n",
      "7/7 [==============================] - 0s 1ms/sample - loss: 0.7135 - acc: 0.4286\n",
      "Epoch 29/100\n",
      "7/7 [==============================] - 0s 1ms/sample - loss: 0.7130 - acc: 0.4286\n",
      "Epoch 30/100\n",
      "7/7 [==============================] - 0s 1ms/sample - loss: 0.7126 - acc: 0.4286\n",
      "Epoch 31/100\n",
      "7/7 [==============================] - 0s 2ms/sample - loss: 0.7121 - acc: 0.4286\n",
      "Epoch 32/100\n",
      "7/7 [==============================] - 0s 2ms/sample - loss: 0.7117 - acc: 0.4286\n",
      "Epoch 33/100\n",
      "7/7 [==============================] - 0s 2ms/sample - loss: 0.7113 - acc: 0.4286\n",
      "Epoch 34/100\n",
      "7/7 [==============================] - 0s 1ms/sample - loss: 0.7108 - acc: 0.4286\n",
      "Epoch 35/100\n",
      "7/7 [==============================] - 0s 883us/sample - loss: 0.7104 - acc: 0.4286\n",
      "Epoch 36/100\n",
      "7/7 [==============================] - 0s 704us/sample - loss: 0.7100 - acc: 0.4286\n",
      "Epoch 37/100\n",
      "7/7 [==============================] - 0s 818us/sample - loss: 0.7096 - acc: 0.4286\n",
      "Epoch 38/100\n",
      "7/7 [==============================] - 0s 885us/sample - loss: 0.7091 - acc: 0.4286\n",
      "Epoch 39/100\n",
      "7/7 [==============================] - 0s 724us/sample - loss: 0.7087 - acc: 0.4286\n",
      "Epoch 40/100\n",
      "7/7 [==============================] - 0s 643us/sample - loss: 0.7083 - acc: 0.4286\n",
      "Epoch 41/100\n",
      "7/7 [==============================] - 0s 857us/sample - loss: 0.7079 - acc: 0.4286\n",
      "Epoch 42/100\n",
      "7/7 [==============================] - 0s 1ms/sample - loss: 0.7075 - acc: 0.4286\n",
      "Epoch 43/100\n",
      "7/7 [==============================] - 0s 543us/sample - loss: 0.7071 - acc: 0.4286\n",
      "Epoch 44/100\n",
      "7/7 [==============================] - 0s 683us/sample - loss: 0.7068 - acc: 0.4286\n",
      "Epoch 45/100\n",
      "7/7 [==============================] - 0s 774us/sample - loss: 0.7064 - acc: 0.4286\n",
      "Epoch 46/100\n",
      "7/7 [==============================] - 0s 1ms/sample - loss: 0.7060 - acc: 0.4286\n",
      "Epoch 47/100\n",
      "7/7 [==============================] - 0s 979us/sample - loss: 0.7056 - acc: 0.4286\n",
      "Epoch 48/100\n",
      "7/7 [==============================] - 0s 996us/sample - loss: 0.7053 - acc: 0.5714\n",
      "Epoch 49/100\n",
      "7/7 [==============================] - 0s 2ms/sample - loss: 0.7049 - acc: 0.5714\n",
      "Epoch 50/100\n",
      "7/7 [==============================] - 0s 1ms/sample - loss: 0.7045 - acc: 0.5714\n",
      "Epoch 51/100\n",
      "7/7 [==============================] - 0s 2ms/sample - loss: 0.7042 - acc: 0.5714\n",
      "Epoch 52/100\n",
      "7/7 [==============================] - 0s 2ms/sample - loss: 0.7038 - acc: 0.5714\n",
      "Epoch 53/100\n",
      "7/7 [==============================] - 0s 608us/sample - loss: 0.7035 - acc: 0.5714\n",
      "Epoch 54/100\n",
      "7/7 [==============================] - 0s 2ms/sample - loss: 0.7031 - acc: 0.7143\n",
      "Epoch 55/100\n",
      "7/7 [==============================] - 0s 2ms/sample - loss: 0.7028 - acc: 0.7143\n",
      "Epoch 56/100\n",
      "7/7 [==============================] - 0s 1ms/sample - loss: 0.7025 - acc: 0.7143\n",
      "Epoch 57/100\n",
      "7/7 [==============================] - 0s 541us/sample - loss: 0.7021 - acc: 0.7143\n",
      "Epoch 58/100\n",
      "7/7 [==============================] - 0s 544us/sample - loss: 0.7018 - acc: 0.7143\n",
      "Epoch 59/100\n",
      "7/7 [==============================] - 0s 548us/sample - loss: 0.7015 - acc: 0.7143\n",
      "Epoch 60/100\n",
      "7/7 [==============================] - 0s 771us/sample - loss: 0.7012 - acc: 0.7143\n",
      "Epoch 61/100\n",
      "7/7 [==============================] - 0s 743us/sample - loss: 0.7008 - acc: 0.7143\n",
      "Epoch 62/100\n",
      "7/7 [==============================] - 0s 480us/sample - loss: 0.7005 - acc: 0.7143\n",
      "Epoch 63/100\n",
      "7/7 [==============================] - 0s 695us/sample - loss: 0.7002 - acc: 0.7143\n",
      "Epoch 64/100\n",
      "7/7 [==============================] - 0s 773us/sample - loss: 0.6999 - acc: 0.7143\n",
      "Epoch 65/100\n",
      "7/7 [==============================] - 0s 680us/sample - loss: 0.6996 - acc: 0.7143\n",
      "Epoch 66/100\n",
      "7/7 [==============================] - 0s 568us/sample - loss: 0.6993 - acc: 0.7143\n",
      "Epoch 67/100\n",
      "7/7 [==============================] - 0s 760us/sample - loss: 0.6990 - acc: 0.7143\n",
      "Epoch 68/100\n",
      "7/7 [==============================] - 0s 737us/sample - loss: 0.6987 - acc: 0.7143\n",
      "Epoch 69/100\n",
      "7/7 [==============================] - 0s 472us/sample - loss: 0.6985 - acc: 0.7143\n",
      "Epoch 70/100\n",
      "7/7 [==============================] - 0s 715us/sample - loss: 0.6982 - acc: 0.7143\n",
      "Epoch 71/100\n",
      "7/7 [==============================] - 0s 815us/sample - loss: 0.6979 - acc: 0.7143\n",
      "Epoch 72/100\n",
      "7/7 [==============================] - 0s 1ms/sample - loss: 0.6976 - acc: 0.7143\n",
      "Epoch 73/100\n",
      "7/7 [==============================] - 0s 669us/sample - loss: 0.6974 - acc: 0.7143\n",
      "Epoch 74/100\n",
      "7/7 [==============================] - 0s 920us/sample - loss: 0.6971 - acc: 0.7143\n",
      "Epoch 75/100\n",
      "7/7 [==============================] - 0s 723us/sample - loss: 0.6968 - acc: 0.7143\n",
      "Epoch 76/100\n",
      "7/7 [==============================] - 0s 601us/sample - loss: 0.6966 - acc: 0.7143\n",
      "Epoch 77/100\n",
      "7/7 [==============================] - 0s 900us/sample - loss: 0.6963 - acc: 0.7143\n",
      "Epoch 78/100\n",
      "7/7 [==============================] - 0s 496us/sample - loss: 0.6960 - acc: 0.7143\n",
      "Epoch 79/100\n",
      "7/7 [==============================] - 0s 707us/sample - loss: 0.6958 - acc: 0.7143\n",
      "Epoch 80/100\n",
      "7/7 [==============================] - 0s 956us/sample - loss: 0.6955 - acc: 0.7143\n",
      "Epoch 81/100\n",
      "7/7 [==============================] - 0s 561us/sample - loss: 0.6953 - acc: 0.7143\n",
      "Epoch 82/100\n",
      "7/7 [==============================] - 0s 969us/sample - loss: 0.6951 - acc: 0.7143\n",
      "Epoch 83/100\n",
      "7/7 [==============================] - 0s 519us/sample - loss: 0.6948 - acc: 0.7143\n",
      "Epoch 84/100\n",
      "7/7 [==============================] - 0s 683us/sample - loss: 0.6946 - acc: 0.5714\n",
      "Epoch 85/100\n",
      "7/7 [==============================] - 0s 666us/sample - loss: 0.6944 - acc: 0.4286\n",
      "Epoch 86/100\n",
      "7/7 [==============================] - 0s 605us/sample - loss: 0.6941 - acc: 0.4286\n",
      "Epoch 87/100\n",
      "7/7 [==============================] - 0s 573us/sample - loss: 0.6939 - acc: 0.4286\n",
      "Epoch 88/100\n",
      "7/7 [==============================] - 0s 737us/sample - loss: 0.6937 - acc: 0.2857\n",
      "Epoch 89/100\n",
      "7/7 [==============================] - 0s 411us/sample - loss: 0.6935 - acc: 0.2857\n",
      "Epoch 90/100\n",
      "7/7 [==============================] - 0s 474us/sample - loss: 0.6932 - acc: 0.2857\n",
      "Epoch 91/100\n",
      "7/7 [==============================] - 0s 655us/sample - loss: 0.6930 - acc: 0.2857\n",
      "Epoch 92/100\n",
      "7/7 [==============================] - 0s 632us/sample - loss: 0.6928 - acc: 0.2857\n",
      "Epoch 93/100\n",
      "7/7 [==============================] - 0s 916us/sample - loss: 0.6926 - acc: 0.2857\n",
      "Epoch 94/100\n",
      "7/7 [==============================] - 0s 601us/sample - loss: 0.6924 - acc: 0.2857\n",
      "Epoch 95/100\n",
      "7/7 [==============================] - 0s 1ms/sample - loss: 0.6922 - acc: 0.2857\n",
      "Epoch 96/100\n",
      "7/7 [==============================] - 0s 488us/sample - loss: 0.6920 - acc: 0.2857\n",
      "Epoch 97/100\n",
      "7/7 [==============================] - 0s 787us/sample - loss: 0.6918 - acc: 0.2857\n",
      "Epoch 98/100\n",
      "7/7 [==============================] - 0s 592us/sample - loss: 0.6916 - acc: 0.2857\n",
      "Epoch 99/100\n",
      "7/7 [==============================] - 0s 827us/sample - loss: 0.6914 - acc: 0.2857\n",
      "Epoch 100/100\n",
      "7/7 [==============================] - 0s 693us/sample - loss: 0.6912 - acc: 0.2857\n"
     ]
    }
   ],
   "source": [
    "from tensorflow.keras.models import Sequential\n",
    "from tensorflow.keras.layers import Dense\n",
    "\n",
    "model = Sequential([\n",
    "    Dense(4, activation='sigmoid', input_dim=3),\n",
    "    Dense(1, activation='sigmoid')\n",
    "])\n",
    "\n",
    "model.compile(optimizer='sgd', loss='binary_crossentropy', metrics=['acc'])\n",
    "\n",
    "results = model.fit(X,y, epochs=100)"
   ]
  },
  {
   "cell_type": "markdown",
   "metadata": {
    "colab_type": "text",
    "id": "8b-r70o8p2Dm"
   },
   "source": [
    "## Try building/training a more complex MLP on a bigger dataset.\n",
    "\n",
    "Use the [MNIST dataset](http://yann.lecun.com/exdb/mnist/) to build the cannonical handwriting digit recognizer and see what kind of accuracy you can achieve. \n",
    "\n",
    "If you need inspiration, the internet is chalk-full of tutorials, but I want you to see how far you can get on your own first. I've linked to the original MNIST dataset above but it will probably be easier to download data through a neural network library. If you reference outside resources make sure you understand every line of code that you're using from other sources, and share with your fellow students helpful resources that you find.\n"
   ]
  },
  {
   "cell_type": "code",
   "execution_count": 8,
   "metadata": {
    "colab": {},
    "colab_type": "code",
    "id": "5MOPtYdk1HgA"
   },
   "outputs": [],
   "source": [
    "import numpy as np\n",
    "from tensorflow.keras.datasets import mnist\n",
    "from tensorflow.keras.utils import to_categorical"
   ]
  },
  {
   "cell_type": "code",
   "execution_count": 9,
   "metadata": {},
   "outputs": [],
   "source": [
    "# input image dimensions\n",
    "img_rows, img_cols = 28, 28"
   ]
  },
  {
   "cell_type": "code",
   "execution_count": 10,
   "metadata": {},
   "outputs": [
    {
     "name": "stdout",
     "output_type": "stream",
     "text": [
      "Downloading data from https://storage.googleapis.com/tensorflow/tf-keras-datasets/mnist.npz\n",
      "11493376/11490434 [==============================] - 1s 0us/step\n"
     ]
    }
   ],
   "source": [
    "# the data, split between train and test sets\n",
    "(x_train, y_train), (x_test, y_test) = mnist.load_data()"
   ]
  },
  {
   "cell_type": "code",
   "execution_count": 11,
   "metadata": {},
   "outputs": [],
   "source": [
    "#Reshape train test data\n",
    "x_train = x_train.reshape(x_train.shape[0], img_rows * img_cols)\n",
    "x_test = x_test.reshape(x_test.shape[0], img_rows * img_cols)\n",
    "\n",
    "# Normalize data\n",
    "x_train = x_train / 255\n",
    "x_test = x_test / 255"
   ]
  },
  {
   "cell_type": "code",
   "execution_count": 13,
   "metadata": {},
   "outputs": [],
   "source": [
    "# Zero or everything else\n",
    "y_temp = np.zeros(y_train.shape)\n",
    "y_temp[np.where(y_train == 0.0)[0]] = 1\n",
    "y_train = y_temp\n",
    "\n",
    "y_temp = np.zeros(y_test.shape)\n",
    "y_temp[np.where(y_test == 0.0)[0]] = 1\n",
    "y_test = y_temp"
   ]
  },
  {
   "cell_type": "code",
   "execution_count": 14,
   "metadata": {},
   "outputs": [
    {
     "data": {
      "text/plain": [
       "array([0., 1., 0., ..., 0., 0., 0.])"
      ]
     },
     "execution_count": 14,
     "metadata": {},
     "output_type": "execute_result"
    }
   ],
   "source": [
    "# See new binary target\n",
    "y_train"
   ]
  },
  {
   "cell_type": "code",
   "execution_count": 33,
   "metadata": {},
   "outputs": [
    {
     "name": "stdout",
     "output_type": "stream",
     "text": [
      "Model: \"sequential_10\"\n",
      "_________________________________________________________________\n",
      "Layer (type)                 Output Shape              Param #   \n",
      "=================================================================\n",
      "dense_11 (Dense)             (None, 10)                7850      \n",
      "=================================================================\n",
      "Total params: 7,850\n",
      "Trainable params: 7,850\n",
      "Non-trainable params: 0\n",
      "_________________________________________________________________\n"
     ]
    }
   ],
   "source": [
    "# Use tensorflow to create model\n",
    "from tensorflow.keras.layers import Flatten\n",
    "model = Sequential()\n",
    "model.add(Dense(10, activation='softmax', input_dim=784))\n",
    "model.compile(loss='sparse_categorical_crossentropy', \n",
    "              optimizer='adam',\n",
    "              metrics=['accuracy'])\n",
    "model.summary()"
   ]
  },
  {
   "cell_type": "code",
   "execution_count": 34,
   "metadata": {},
   "outputs": [
    {
     "name": "stdout",
     "output_type": "stream",
     "text": [
      "Train on 60000 samples, validate on 10000 samples\n",
      "Epoch 1/10\n",
      "60000/60000 [==============================] - 6s 92us/sample - loss: 0.0814 - accuracy: 0.9797 - val_loss: 0.0257 - val_accuracy: 0.9924\n",
      "Epoch 2/10\n",
      "60000/60000 [==============================] - 4s 69us/sample - loss: 0.0311 - accuracy: 0.9911 - val_loss: 0.0225 - val_accuracy: 0.9935\n",
      "Epoch 3/10\n",
      "60000/60000 [==============================] - 4s 64us/sample - loss: 0.0278 - accuracy: 0.9918 - val_loss: 0.0223 - val_accuracy: 0.9925\n",
      "Epoch 4/10\n",
      "60000/60000 [==============================] - 4s 65us/sample - loss: 0.0262 - accuracy: 0.9924 - val_loss: 0.0220 - val_accuracy: 0.9932\n",
      "Epoch 5/10\n",
      "60000/60000 [==============================] - 4s 65us/sample - loss: 0.0252 - accuracy: 0.9922 - val_loss: 0.0215 - val_accuracy: 0.9933\n",
      "Epoch 6/10\n",
      "60000/60000 [==============================] - 4s 64us/sample - loss: 0.0245 - accuracy: 0.9927 - val_loss: 0.0211 - val_accuracy: 0.9928\n",
      "Epoch 7/10\n",
      "60000/60000 [==============================] - 4s 72us/sample - loss: 0.0241 - accuracy: 0.9929 - val_loss: 0.0228 - val_accuracy: 0.9924\n",
      "Epoch 8/10\n",
      "60000/60000 [==============================] - 4s 64us/sample - loss: 0.0238 - accuracy: 0.9930 - val_loss: 0.0215 - val_accuracy: 0.9930\n",
      "Epoch 9/10\n",
      "60000/60000 [==============================] - 4s 69us/sample - loss: 0.0235 - accuracy: 0.9933 - val_loss: 0.0232 - val_accuracy: 0.9920\n",
      "Epoch 10/10\n",
      "60000/60000 [==============================] - 4s 64us/sample - loss: 0.0235 - accuracy: 0.9931 - val_loss: 0.0228 - val_accuracy: 0.9925\n"
     ]
    },
    {
     "data": {
      "text/plain": [
       "<tensorflow.python.keras.callbacks.History at 0x12e630668>"
      ]
     },
     "execution_count": 34,
     "metadata": {},
     "output_type": "execute_result"
    }
   ],
   "source": [
    "#Fit model\n",
    "# Fit the model\n",
    "model.fit(x_train, y_train, \n",
    "          epochs=10, \n",
    "          validation_data=(x_test, y_test))"
   ]
  },
  {
   "cell_type": "markdown",
   "metadata": {
    "colab_type": "text",
    "id": "FwlRJSfBlCvy"
   },
   "source": [
    "## Stretch Goals: \n",
    "\n",
    "- Implement Cross Validation model evaluation on your MNIST implementation \n",
    "- Research different [Gradient Descent Based Optimizers](https://keras.io/optimizers/)\n",
    " - [Siraj Raval the evolution of gradient descent](https://www.youtube.com/watch?v=nhqo0u1a6fw)\n",
    "- Build a housing price estimation model using a neural network. How does its accuracy compare with the regression models that we fit earlier on in class?"
   ]
  }
 ],
 "metadata": {
  "colab": {
   "name": "LS_DS_432_Backprop_Assignment.ipynb",
   "provenance": []
  },
  "kernelspec": {
   "display_name": "Python 3",
   "language": "python",
   "name": "python3"
  },
  "language_info": {
   "codemirror_mode": {
    "name": "ipython",
    "version": 3
   },
   "file_extension": ".py",
   "mimetype": "text/x-python",
   "name": "python",
   "nbconvert_exporter": "python",
   "pygments_lexer": "ipython3",
   "version": "3.7.0"
  },
  "toc": {
   "base_numbering": 1,
   "nav_menu": {},
   "number_sections": true,
   "sideBar": true,
   "skip_h1_title": false,
   "title_cell": "Table of Contents",
   "title_sidebar": "Contents",
   "toc_cell": true,
   "toc_position": {},
   "toc_section_display": true,
   "toc_window_display": false
  }
 },
 "nbformat": 4,
 "nbformat_minor": 4
}
